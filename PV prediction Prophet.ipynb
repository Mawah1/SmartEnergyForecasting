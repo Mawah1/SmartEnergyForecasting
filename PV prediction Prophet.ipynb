{
 "cells": [
  {
   "cell_type": "code",
   "execution_count": 1,
   "id": "initial_id",
   "metadata": {
    "ExecuteTime": {
     "end_time": "2024-08-20T17:22:09.466179800Z",
     "start_time": "2024-08-20T17:22:07.322111500Z"
    },
    "collapsed": true
   },
   "outputs": [
    {
     "name": "stderr",
     "output_type": "stream",
     "text": [
      "C:\\Users\\atang\\AppData\\Local\\Temp\\ipykernel_18100\\1816786013.py:6: UserWarning: Could not infer format, so each element will be parsed individually, falling back to `dateutil`. To ensure parsing is consistent and as-expected, please specify a format.\n",
      "  Dataset = pd.read_csv(\"C:\\\\Users\\\\atang\\\\OneDrive\\\\Documents\\\\Data Science MSc\\\\Individual Research Project\\\\Database.csv\", index_col=0, parse_dates=True, dayfirst=True)\n"
     ]
    }
   ],
   "source": [
    "import pandas as pd\n",
    "\n",
    "try:\n",
    "    Dataset = pd.read_csv(\"C:\\\\Users\\\\atang\\\\OneDrive\\\\Documents\\\\Data Science MSc\\\\Individual Research Project\\\\Database.csv\", index_col=0, parse_dates=True, dayfirst=True)\n",
    "except ValueError as e:\n",
    "    print(f\"Error parsing dates: {e}\")\n",
    "    # Load without parsing dates and inspect\n",
    "    Dataset = pd.read_csv(\"C:\\\\Users\\\\atang\\\\OneDrive\\\\Documents\\\\Data Science MSc\\\\Individual Research Project\\\\Database.csv\", index_col=0)\n",
    "    print(Dataset.head())"
   ]
  },
  {
   "cell_type": "code",
   "execution_count": 2,
   "id": "5a8a84a3900e8a4d",
   "metadata": {
    "ExecuteTime": {
     "end_time": "2024-08-20T17:22:09.490495Z",
     "start_time": "2024-08-20T17:22:09.450274200Z"
    },
    "collapsed": false
   },
   "outputs": [
    {
     "data": {
      "text/html": [
       "<div>\n",
       "<style scoped>\n",
       "    .dataframe tbody tr th:only-of-type {\n",
       "        vertical-align: middle;\n",
       "    }\n",
       "\n",
       "    .dataframe tbody tr th {\n",
       "        vertical-align: top;\n",
       "    }\n",
       "\n",
       "    .dataframe thead th {\n",
       "        text-align: right;\n",
       "    }\n",
       "</style>\n",
       "<table border=\"1\" class=\"dataframe\">\n",
       "  <thead>\n",
       "    <tr style=\"text-align: right;\">\n",
       "      <th></th>\n",
       "      <th>Time</th>\n",
       "      <th>Season</th>\n",
       "      <th>Day_of_the_week</th>\n",
       "      <th>DHI</th>\n",
       "      <th>DNI</th>\n",
       "      <th>GHI</th>\n",
       "      <th>Wind_speed</th>\n",
       "      <th>Humidity</th>\n",
       "      <th>Temperature</th>\n",
       "      <th>PV_production</th>\n",
       "      <th>Wind_production</th>\n",
       "      <th>Electric_demand</th>\n",
       "    </tr>\n",
       "  </thead>\n",
       "  <tbody>\n",
       "    <tr>\n",
       "      <th>0</th>\n",
       "      <td>2019-01-01-T00:00</td>\n",
       "      <td>1</td>\n",
       "      <td>1</td>\n",
       "      <td>0.0</td>\n",
       "      <td>0.0</td>\n",
       "      <td>0.0</td>\n",
       "      <td>2.88</td>\n",
       "      <td>56.036</td>\n",
       "      <td>1.82</td>\n",
       "      <td>0</td>\n",
       "      <td>2810</td>\n",
       "      <td>22216</td>\n",
       "    </tr>\n",
       "    <tr>\n",
       "      <th>1</th>\n",
       "      <td>2019-01-01-T00:05</td>\n",
       "      <td>1</td>\n",
       "      <td>1</td>\n",
       "      <td>0.0</td>\n",
       "      <td>0.0</td>\n",
       "      <td>0.0</td>\n",
       "      <td>2.88</td>\n",
       "      <td>56.036</td>\n",
       "      <td>1.82</td>\n",
       "      <td>0</td>\n",
       "      <td>2862</td>\n",
       "      <td>22106</td>\n",
       "    </tr>\n",
       "    <tr>\n",
       "      <th>2</th>\n",
       "      <td>2019-01-01-T00:10</td>\n",
       "      <td>1</td>\n",
       "      <td>1</td>\n",
       "      <td>0.0</td>\n",
       "      <td>0.0</td>\n",
       "      <td>0.0</td>\n",
       "      <td>2.88</td>\n",
       "      <td>56.194</td>\n",
       "      <td>1.78</td>\n",
       "      <td>0</td>\n",
       "      <td>2916</td>\n",
       "      <td>22130</td>\n",
       "    </tr>\n",
       "    <tr>\n",
       "      <th>3</th>\n",
       "      <td>2019-01-01-T00:15</td>\n",
       "      <td>1</td>\n",
       "      <td>1</td>\n",
       "      <td>0.0</td>\n",
       "      <td>0.0</td>\n",
       "      <td>0.0</td>\n",
       "      <td>2.88</td>\n",
       "      <td>56.344</td>\n",
       "      <td>1.74</td>\n",
       "      <td>0</td>\n",
       "      <td>2920</td>\n",
       "      <td>22040</td>\n",
       "    </tr>\n",
       "    <tr>\n",
       "      <th>4</th>\n",
       "      <td>2019-01-01-T00:20</td>\n",
       "      <td>1</td>\n",
       "      <td>1</td>\n",
       "      <td>0.0</td>\n",
       "      <td>0.0</td>\n",
       "      <td>0.0</td>\n",
       "      <td>2.84</td>\n",
       "      <td>56.440</td>\n",
       "      <td>1.72</td>\n",
       "      <td>0</td>\n",
       "      <td>2902</td>\n",
       "      <td>21963</td>\n",
       "    </tr>\n",
       "  </tbody>\n",
       "</table>\n",
       "</div>"
      ],
      "text/plain": [
       "                Time  Season  Day_of_the_week  DHI  DNI  GHI  Wind_speed  \\\n",
       "0  2019-01-01-T00:00       1                1  0.0  0.0  0.0        2.88   \n",
       "1  2019-01-01-T00:05       1                1  0.0  0.0  0.0        2.88   \n",
       "2  2019-01-01-T00:10       1                1  0.0  0.0  0.0        2.88   \n",
       "3  2019-01-01-T00:15       1                1  0.0  0.0  0.0        2.88   \n",
       "4  2019-01-01-T00:20       1                1  0.0  0.0  0.0        2.84   \n",
       "\n",
       "   Humidity  Temperature  PV_production  Wind_production  Electric_demand  \n",
       "0    56.036         1.82              0             2810            22216  \n",
       "1    56.036         1.82              0             2862            22106  \n",
       "2    56.194         1.78              0             2916            22130  \n",
       "3    56.344         1.74              0             2920            22040  \n",
       "4    56.440         1.72              0             2902            21963  "
      ]
     },
     "execution_count": 2,
     "metadata": {},
     "output_type": "execute_result"
    }
   ],
   "source": [
    "Dataset.head()\n"
   ]
  },
  {
   "cell_type": "code",
   "execution_count": 3,
   "id": "3f89796ad825a70a",
   "metadata": {
    "ExecuteTime": {
     "end_time": "2024-08-20T17:22:09.577314400Z",
     "start_time": "2024-08-20T17:22:09.487332800Z"
    },
    "collapsed": false
   },
   "outputs": [
    {
     "data": {
      "text/plain": [
       "(315648, 12)"
      ]
     },
     "execution_count": 3,
     "metadata": {},
     "output_type": "execute_result"
    }
   ],
   "source": [
    "Dataset.shape"
   ]
  },
  {
   "cell_type": "code",
   "execution_count": 4,
   "id": "6aaa9b3fc645bf",
   "metadata": {
    "ExecuteTime": {
     "end_time": "2024-08-20T17:22:10.540184700Z",
     "start_time": "2024-08-20T17:22:09.519001600Z"
    },
    "collapsed": false
   },
   "outputs": [
    {
     "data": {
      "text/html": [
       "<div>\n",
       "<style scoped>\n",
       "    .dataframe tbody tr th:only-of-type {\n",
       "        vertical-align: middle;\n",
       "    }\n",
       "\n",
       "    .dataframe tbody tr th {\n",
       "        vertical-align: top;\n",
       "    }\n",
       "\n",
       "    .dataframe thead th {\n",
       "        text-align: right;\n",
       "    }\n",
       "</style>\n",
       "<table border=\"1\" class=\"dataframe\">\n",
       "  <thead>\n",
       "    <tr style=\"text-align: right;\">\n",
       "      <th></th>\n",
       "      <th>Season</th>\n",
       "      <th>Day_of_the_week</th>\n",
       "      <th>DHI</th>\n",
       "      <th>DNI</th>\n",
       "      <th>GHI</th>\n",
       "      <th>Wind_speed</th>\n",
       "      <th>Humidity</th>\n",
       "      <th>Temperature</th>\n",
       "      <th>PV_production</th>\n",
       "      <th>Wind_production</th>\n",
       "      <th>Electric_demand</th>\n",
       "    </tr>\n",
       "    <tr>\n",
       "      <th>Time</th>\n",
       "      <th></th>\n",
       "      <th></th>\n",
       "      <th></th>\n",
       "      <th></th>\n",
       "      <th></th>\n",
       "      <th></th>\n",
       "      <th></th>\n",
       "      <th></th>\n",
       "      <th></th>\n",
       "      <th></th>\n",
       "      <th></th>\n",
       "    </tr>\n",
       "  </thead>\n",
       "  <tbody>\n",
       "    <tr>\n",
       "      <th>2019-01-01 00:00:00</th>\n",
       "      <td>1</td>\n",
       "      <td>1</td>\n",
       "      <td>0.0</td>\n",
       "      <td>0.0</td>\n",
       "      <td>0.0</td>\n",
       "      <td>2.88</td>\n",
       "      <td>56.036</td>\n",
       "      <td>1.82</td>\n",
       "      <td>0</td>\n",
       "      <td>2810</td>\n",
       "      <td>22216</td>\n",
       "    </tr>\n",
       "    <tr>\n",
       "      <th>2019-01-01 00:05:00</th>\n",
       "      <td>1</td>\n",
       "      <td>1</td>\n",
       "      <td>0.0</td>\n",
       "      <td>0.0</td>\n",
       "      <td>0.0</td>\n",
       "      <td>2.88</td>\n",
       "      <td>56.036</td>\n",
       "      <td>1.82</td>\n",
       "      <td>0</td>\n",
       "      <td>2862</td>\n",
       "      <td>22106</td>\n",
       "    </tr>\n",
       "    <tr>\n",
       "      <th>2019-01-01 00:10:00</th>\n",
       "      <td>1</td>\n",
       "      <td>1</td>\n",
       "      <td>0.0</td>\n",
       "      <td>0.0</td>\n",
       "      <td>0.0</td>\n",
       "      <td>2.88</td>\n",
       "      <td>56.194</td>\n",
       "      <td>1.78</td>\n",
       "      <td>0</td>\n",
       "      <td>2916</td>\n",
       "      <td>22130</td>\n",
       "    </tr>\n",
       "    <tr>\n",
       "      <th>2019-01-01 00:15:00</th>\n",
       "      <td>1</td>\n",
       "      <td>1</td>\n",
       "      <td>0.0</td>\n",
       "      <td>0.0</td>\n",
       "      <td>0.0</td>\n",
       "      <td>2.88</td>\n",
       "      <td>56.344</td>\n",
       "      <td>1.74</td>\n",
       "      <td>0</td>\n",
       "      <td>2920</td>\n",
       "      <td>22040</td>\n",
       "    </tr>\n",
       "    <tr>\n",
       "      <th>2019-01-01 00:20:00</th>\n",
       "      <td>1</td>\n",
       "      <td>1</td>\n",
       "      <td>0.0</td>\n",
       "      <td>0.0</td>\n",
       "      <td>0.0</td>\n",
       "      <td>2.84</td>\n",
       "      <td>56.440</td>\n",
       "      <td>1.72</td>\n",
       "      <td>0</td>\n",
       "      <td>2902</td>\n",
       "      <td>21963</td>\n",
       "    </tr>\n",
       "  </tbody>\n",
       "</table>\n",
       "</div>"
      ],
      "text/plain": [
       "                     Season  Day_of_the_week  DHI  DNI  GHI  Wind_speed  \\\n",
       "Time                                                                      \n",
       "2019-01-01 00:00:00       1                1  0.0  0.0  0.0        2.88   \n",
       "2019-01-01 00:05:00       1                1  0.0  0.0  0.0        2.88   \n",
       "2019-01-01 00:10:00       1                1  0.0  0.0  0.0        2.88   \n",
       "2019-01-01 00:15:00       1                1  0.0  0.0  0.0        2.88   \n",
       "2019-01-01 00:20:00       1                1  0.0  0.0  0.0        2.84   \n",
       "\n",
       "                     Humidity  Temperature  PV_production  Wind_production  \\\n",
       "Time                                                                         \n",
       "2019-01-01 00:00:00    56.036         1.82              0             2810   \n",
       "2019-01-01 00:05:00    56.036         1.82              0             2862   \n",
       "2019-01-01 00:10:00    56.194         1.78              0             2916   \n",
       "2019-01-01 00:15:00    56.344         1.74              0             2920   \n",
       "2019-01-01 00:20:00    56.440         1.72              0             2902   \n",
       "\n",
       "                     Electric_demand  \n",
       "Time                                  \n",
       "2019-01-01 00:00:00            22216  \n",
       "2019-01-01 00:05:00            22106  \n",
       "2019-01-01 00:10:00            22130  \n",
       "2019-01-01 00:15:00            22040  \n",
       "2019-01-01 00:20:00            21963  "
      ]
     },
     "execution_count": 4,
     "metadata": {},
     "output_type": "execute_result"
    }
   ],
   "source": [
    "#Convert the time column to Datetime for time series analysis\n",
    "Dataset['Time'] = pd.to_datetime(Dataset['Time'])\n",
    "Dataset.set_index('Time', inplace=True)\n",
    "Dataset.head()"
   ]
  },
  {
   "cell_type": "code",
   "execution_count": 5,
   "id": "ce3670464bd0ccb",
   "metadata": {
    "ExecuteTime": {
     "end_time": "2024-08-20T17:22:10.583188100Z",
     "start_time": "2024-08-20T17:22:10.540184700Z"
    },
    "collapsed": false
   },
   "outputs": [
    {
     "name": "stdout",
     "output_type": "stream",
     "text": [
      "Missing dates:\n",
      "DatetimeIndex([], dtype='datetime64[ns]', freq='5min')\n"
     ]
    }
   ],
   "source": [
    "# Generate a complete date range\n",
    "full_range = pd.date_range(start=Dataset.index.min(), end=Dataset.index.max(), freq='5min')\n",
    "\n",
    "# Identify missing dates\n",
    "missing_dates = full_range.difference(Dataset.index)\n",
    "\n",
    "# Print the missing dates\n",
    "print(\"Missing dates:\")\n",
    "print(missing_dates)"
   ]
  },
  {
   "cell_type": "code",
   "execution_count": 6,
   "id": "b2373c1069144e14",
   "metadata": {
    "ExecuteTime": {
     "end_time": "2024-08-20T17:22:10.659803300Z",
     "start_time": "2024-08-20T17:22:10.554031700Z"
    },
    "collapsed": false
   },
   "outputs": [
    {
     "data": {
      "text/plain": [
       "(105408, 11)"
      ]
     },
     "execution_count": 6,
     "metadata": {},
     "output_type": "execute_result"
    }
   ],
   "source": [
    "# Filter data to keep only the year 2020\n",
    "Dataset_2020 = Dataset[(Dataset.index.year == 2020)]\n",
    "Dataset_2020.head()\n",
    "Dataset_2020.shape"
   ]
  },
  {
   "cell_type": "code",
   "execution_count": 7,
   "id": "29caf17db96710d8",
   "metadata": {
    "ExecuteTime": {
     "end_time": "2024-08-20T17:22:10.682345200Z",
     "start_time": "2024-08-20T17:22:10.583188100Z"
    },
    "collapsed": false
   },
   "outputs": [
    {
     "name": "stdout",
     "output_type": "stream",
     "text": [
      "Index(['Season', 'Day_of_the_week', 'DHI', 'DNI', 'GHI', 'Wind_speed',\n",
      "       'Humidity', 'Temperature', 'PV_production'],\n",
      "      dtype='object')\n"
     ]
    }
   ],
   "source": [
    "Dataset_2020 = Dataset_2020.drop(['Wind_production', 'Electric_demand'], axis = 1)\n",
    "print(Dataset_2020.columns)"
   ]
  },
  {
   "cell_type": "code",
   "execution_count": 8,
   "id": "6db465437e031384",
   "metadata": {
    "ExecuteTime": {
     "end_time": "2024-08-20T17:22:10.850298800Z",
     "start_time": "2024-08-20T17:22:10.604400400Z"
    },
    "collapsed": false
   },
   "outputs": [],
   "source": [
    "#convert columns to numeric data type\n",
    "Dataset_2020['Wind_speed'] = pd.to_numeric(Dataset_2020['Wind_speed'], downcast='float')\n",
    "Dataset_2020['Season'] = pd.to_numeric(Dataset_2020['Season'], downcast='float')\n",
    "Dataset_2020['Day_of_the_week'] = pd.to_numeric(Dataset_2020['Day_of_the_week'], downcast='float')\n",
    "Dataset_2020['DHI'] = pd.to_numeric(Dataset_2020['DHI'], downcast='float')\n",
    "Dataset_2020['DNI'] = pd.to_numeric(Dataset_2020['DNI'], downcast='float')\n",
    "Dataset_2020['GHI'] = pd.to_numeric(Dataset_2020['GHI'], downcast='float')\n",
    "Dataset_2020['Humidity'] = pd.to_numeric(Dataset_2020['Humidity'], downcast='float')\n",
    "Dataset_2020['Temperature'] = pd.to_numeric(Dataset_2020['Temperature'], downcast='float')\n",
    "Dataset_2020['PV_production'] = pd.to_numeric(Dataset_2020['PV_production'], downcast='float')"
   ]
  },
  {
   "cell_type": "code",
   "execution_count": 9,
   "id": "36ebfb90f7a34bdf",
   "metadata": {
    "ExecuteTime": {
     "end_time": "2024-08-20T17:22:10.867104300Z",
     "start_time": "2024-08-20T17:22:10.643872500Z"
    },
    "collapsed": false
   },
   "outputs": [],
   "source": [
    "# Replace negative PV_production values with zero\n",
    "Dataset_2020.loc[Dataset_2020['PV_production'] < 0, 'PV_production'] = 0"
   ]
  },
  {
   "cell_type": "code",
   "execution_count": 10,
   "id": "1a621c9f750723e8",
   "metadata": {
    "ExecuteTime": {
     "end_time": "2024-08-20T17:22:10.870578200Z",
     "start_time": "2024-08-20T17:22:10.665940600Z"
    },
    "collapsed": false
   },
   "outputs": [
    {
     "data": {
      "text/plain": [
       "(105408, 9)"
      ]
     },
     "execution_count": 10,
     "metadata": {},
     "output_type": "execute_result"
    }
   ],
   "source": [
    "# Handle any remaining non-numeric or NA values in PV_production\n",
    "Dataset_2020 = Dataset_2020.dropna(subset=['PV_production'])\n",
    "Dataset_2020.shape"
   ]
  },
  {
   "cell_type": "code",
   "execution_count": 11,
   "id": "7610b381ca0d64e0",
   "metadata": {
    "ExecuteTime": {
     "end_time": "2024-08-20T17:22:10.872114500Z",
     "start_time": "2024-08-20T17:22:10.696840700Z"
    },
    "collapsed": false
   },
   "outputs": [
    {
     "data": {
      "text/html": [
       "<div>\n",
       "<style scoped>\n",
       "    .dataframe tbody tr th:only-of-type {\n",
       "        vertical-align: middle;\n",
       "    }\n",
       "\n",
       "    .dataframe tbody tr th {\n",
       "        vertical-align: top;\n",
       "    }\n",
       "\n",
       "    .dataframe thead th {\n",
       "        text-align: right;\n",
       "    }\n",
       "</style>\n",
       "<table border=\"1\" class=\"dataframe\">\n",
       "  <thead>\n",
       "    <tr style=\"text-align: right;\">\n",
       "      <th></th>\n",
       "      <th>Season</th>\n",
       "      <th>Day_of_the_week</th>\n",
       "      <th>DHI</th>\n",
       "      <th>DNI</th>\n",
       "      <th>GHI</th>\n",
       "      <th>Wind_speed</th>\n",
       "      <th>Humidity</th>\n",
       "      <th>Temperature</th>\n",
       "      <th>PV_production</th>\n",
       "    </tr>\n",
       "    <tr>\n",
       "      <th>Time</th>\n",
       "      <th></th>\n",
       "      <th></th>\n",
       "      <th></th>\n",
       "      <th></th>\n",
       "      <th></th>\n",
       "      <th></th>\n",
       "      <th></th>\n",
       "      <th></th>\n",
       "      <th></th>\n",
       "    </tr>\n",
       "  </thead>\n",
       "  <tbody>\n",
       "    <tr>\n",
       "      <th>2020-01-01 00:00:00</th>\n",
       "      <td>1.0</td>\n",
       "      <td>2.0</td>\n",
       "      <td>0.0</td>\n",
       "      <td>0.0</td>\n",
       "      <td>0.0</td>\n",
       "      <td>1.06</td>\n",
       "      <td>62.807999</td>\n",
       "      <td>8.54</td>\n",
       "      <td>0.0</td>\n",
       "    </tr>\n",
       "    <tr>\n",
       "      <th>2020-01-01 00:05:00</th>\n",
       "      <td>1.0</td>\n",
       "      <td>2.0</td>\n",
       "      <td>0.0</td>\n",
       "      <td>0.0</td>\n",
       "      <td>0.0</td>\n",
       "      <td>1.06</td>\n",
       "      <td>62.813999</td>\n",
       "      <td>8.54</td>\n",
       "      <td>0.0</td>\n",
       "    </tr>\n",
       "    <tr>\n",
       "      <th>2020-01-01 00:10:00</th>\n",
       "      <td>1.0</td>\n",
       "      <td>2.0</td>\n",
       "      <td>0.0</td>\n",
       "      <td>0.0</td>\n",
       "      <td>0.0</td>\n",
       "      <td>1.08</td>\n",
       "      <td>62.928001</td>\n",
       "      <td>8.52</td>\n",
       "      <td>0.0</td>\n",
       "    </tr>\n",
       "    <tr>\n",
       "      <th>2020-01-01 00:15:00</th>\n",
       "      <td>1.0</td>\n",
       "      <td>2.0</td>\n",
       "      <td>0.0</td>\n",
       "      <td>0.0</td>\n",
       "      <td>0.0</td>\n",
       "      <td>1.10</td>\n",
       "      <td>62.998001</td>\n",
       "      <td>8.50</td>\n",
       "      <td>0.0</td>\n",
       "    </tr>\n",
       "    <tr>\n",
       "      <th>2020-01-01 00:20:00</th>\n",
       "      <td>1.0</td>\n",
       "      <td>2.0</td>\n",
       "      <td>0.0</td>\n",
       "      <td>0.0</td>\n",
       "      <td>0.0</td>\n",
       "      <td>1.10</td>\n",
       "      <td>62.889999</td>\n",
       "      <td>8.52</td>\n",
       "      <td>0.0</td>\n",
       "    </tr>\n",
       "  </tbody>\n",
       "</table>\n",
       "</div>"
      ],
      "text/plain": [
       "                     Season  Day_of_the_week  DHI  DNI  GHI  Wind_speed  \\\n",
       "Time                                                                      \n",
       "2020-01-01 00:00:00     1.0              2.0  0.0  0.0  0.0        1.06   \n",
       "2020-01-01 00:05:00     1.0              2.0  0.0  0.0  0.0        1.06   \n",
       "2020-01-01 00:10:00     1.0              2.0  0.0  0.0  0.0        1.08   \n",
       "2020-01-01 00:15:00     1.0              2.0  0.0  0.0  0.0        1.10   \n",
       "2020-01-01 00:20:00     1.0              2.0  0.0  0.0  0.0        1.10   \n",
       "\n",
       "                      Humidity  Temperature  PV_production  \n",
       "Time                                                        \n",
       "2020-01-01 00:00:00  62.807999         8.54            0.0  \n",
       "2020-01-01 00:05:00  62.813999         8.54            0.0  \n",
       "2020-01-01 00:10:00  62.928001         8.52            0.0  \n",
       "2020-01-01 00:15:00  62.998001         8.50            0.0  \n",
       "2020-01-01 00:20:00  62.889999         8.52            0.0  "
      ]
     },
     "execution_count": 11,
     "metadata": {},
     "output_type": "execute_result"
    }
   ],
   "source": [
    "Dataset_2020.head()"
   ]
  },
  {
   "cell_type": "code",
   "execution_count": 13,
   "id": "d9eeb07155d763c7",
   "metadata": {
    "ExecuteTime": {
     "end_time": "2024-08-20T17:24:19.004839500Z",
     "start_time": "2024-08-20T17:22:10.748884Z"
    },
    "collapsed": false
   },
   "outputs": [
    {
     "name": "stderr",
     "output_type": "stream",
     "text": [
      "Importing plotly failed. Interactive plots will not work.\n"
     ]
    },
    {
     "name": "stdout",
     "output_type": "stream",
     "text": [
      "                   ds  Season  Day_of_the_week  DHI  DNI  GHI  Wind_speed  \\\n",
      "0 2020-01-01 00:00:00     1.0              2.0  0.0  0.0  0.0        1.06   \n",
      "1 2020-01-01 00:05:00     1.0              2.0  0.0  0.0  0.0        1.06   \n",
      "2 2020-01-01 00:10:00     1.0              2.0  0.0  0.0  0.0        1.08   \n",
      "3 2020-01-01 00:15:00     1.0              2.0  0.0  0.0  0.0        1.10   \n",
      "4 2020-01-01 00:20:00     1.0              2.0  0.0  0.0  0.0        1.10   \n",
      "\n",
      "    Humidity  Temperature  PV_production  \n",
      "0  62.807999         8.54            0.0  \n",
      "1  62.813999         8.54            0.0  \n",
      "2  62.928001         8.52            0.0  \n",
      "3  62.998001         8.50            0.0  \n",
      "4  62.889999         8.52            0.0  \n"
     ]
    },
    {
     "name": "stderr",
     "output_type": "stream",
     "text": [
      "18:22:14 - cmdstanpy - INFO - Chain [1] start processing\n",
      "18:22:25 - cmdstanpy - INFO - Chain [1] done processing\n",
      "18:22:36 - cmdstanpy - INFO - Chain [1] start processing\n",
      "18:23:15 - cmdstanpy - INFO - Chain [1] done processing\n",
      "18:23:28 - cmdstanpy - INFO - Chain [1] start processing\n",
      "18:24:05 - cmdstanpy - INFO - Chain [1] done processing\n"
     ]
    },
    {
     "name": "stdout",
     "output_type": "stream",
     "text": [
      "   R2 Score          MAPE           MSE\n",
      "0  0.272635  9.465941e+17  1.488787e+07\n",
      "1  0.598419  6.537847e+17  8.887421e+06\n",
      "2  0.813877  1.186381e+18  2.526599e+06\n"
     ]
    }
   ],
   "source": [
    "import pandas as pd\n",
    "from sklearn.metrics import r2_score, mean_absolute_percentage_error, mean_squared_error\n",
    "from sklearn.model_selection import TimeSeriesSplit\n",
    "from prophet import Prophet\n",
    "\n",
    "df = Dataset_2020.copy()\n",
    "\n",
    "# Ensure the datetime index is available as a column named 'ds'\n",
    "df.index.name = 'ds'\n",
    "df.reset_index(inplace=True)\n",
    "\n",
    "# Check if the 'ds' column is correctly created\n",
    "print(df.head())\n",
    "\n",
    "# Ensure the target column 'PV_production' exists\n",
    "if 'PV_production' not in df.columns:\n",
    "    raise KeyError(\"The target column 'PV_production' is not in the dataframe.\")\n",
    "\n",
    "# Prepare the data for Prophet\n",
    "df_prophet = df[['ds', 'PV_production']].rename(columns={'ds': 'ds', 'PV_production': 'y'})\n",
    "\n",
    "# Initialise time series split for cross-validation\n",
    "tscv = TimeSeriesSplit(n_splits=3)\n",
    "\n",
    "r2_scores = []\n",
    "mse_scores = []\n",
    "\n",
    "# Cross-validation\n",
    "for train_index, test_index in tscv.split(df_prophet):\n",
    "    train, test = df_prophet.iloc[train_index], df_prophet.iloc[test_index]\n",
    "\n",
    "    # Create and fit the Prophet model with hyperparameters\n",
    "    model = Prophet(\n",
    "        seasonality_mode='multiplicative',\n",
    "        changepoint_prior_scale=0.05,\n",
    "        seasonality_prior_scale=10.0\n",
    "    )\n",
    "\n",
    "    model.fit(train)\n",
    "\n",
    "    # Make future dataframe for predictions\n",
    "    future = model.make_future_dataframe(periods=len(test), freq='5min')  # Adjust frequency as per your data\n",
    "\n",
    "    forecast = model.predict(future)\n",
    "\n",
    "    # Extract predictions for the test period\n",
    "    predictions = forecast['yhat'].iloc[-len(test):].values\n",
    "\n",
    "    # Calculate metrics\n",
    "    y_test = test['y'].values\n",
    "    r2 = r2_score(y_test, predictions)\n",
    "    mse = mean_squared_error(y_test, predictions)\n",
    "\n",
    "    r2_scores.append(r2)\n",
    "    mse_scores.append(mse)\n",
    "\n",
    "# Display the results\n",
    "results = pd.DataFrame({\n",
    "    'R2 Score': r2_scores,\n",
    "    'MSE': mse_scores\n",
    "})\n",
    "\n",
    "print(results)\n"
   ]
  },
  {
   "cell_type": "code",
   "execution_count": 13,
   "id": "ef4731827cc93d4c",
   "metadata": {
    "ExecuteTime": {
     "end_time": "2024-08-20T17:24:19.024923600Z",
     "start_time": "2024-08-20T17:24:19.004839500Z"
    },
    "collapsed": false
   },
   "outputs": [],
   "source": []
  }
 ],
 "metadata": {
  "kernelspec": {
   "display_name": "Python 3",
   "language": "python",
   "name": "python3"
  },
  "language_info": {
   "codemirror_mode": {
    "name": "ipython",
    "version": 2
   },
   "file_extension": ".py",
   "mimetype": "text/x-python",
   "name": "python",
   "nbconvert_exporter": "python",
   "pygments_lexer": "ipython2",
   "version": "2.7.6"
  }
 },
 "nbformat": 4,
 "nbformat_minor": 5
}
