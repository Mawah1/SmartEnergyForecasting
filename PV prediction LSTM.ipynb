{
 "cells": [
  {
   "cell_type": "code",
   "execution_count": 6,
   "id": "initial_id",
   "metadata": {
    "ExecuteTime": {
     "end_time": "2024-08-04T14:43:57.189178900Z",
     "start_time": "2024-08-04T14:43:56.821497800Z"
    },
    "collapsed": true
   },
   "outputs": [
    {
     "data": {
      "text/html": [
       "<div>\n",
       "<style scoped>\n",
       "    .dataframe tbody tr th:only-of-type {\n",
       "        vertical-align: middle;\n",
       "    }\n",
       "\n",
       "    .dataframe tbody tr th {\n",
       "        vertical-align: top;\n",
       "    }\n",
       "\n",
       "    .dataframe thead th {\n",
       "        text-align: right;\n",
       "    }\n",
       "</style>\n",
       "<table border=\"1\" class=\"dataframe\">\n",
       "  <thead>\n",
       "    <tr style=\"text-align: right;\">\n",
       "      <th></th>\n",
       "      <th>Unnamed: 0</th>\n",
       "      <th>Time</th>\n",
       "      <th>Season</th>\n",
       "      <th>Day_of_the_week</th>\n",
       "      <th>DHI</th>\n",
       "      <th>DNI</th>\n",
       "      <th>GHI</th>\n",
       "      <th>Wind_speed</th>\n",
       "      <th>Humidity</th>\n",
       "      <th>Temperature</th>\n",
       "      <th>PV_production</th>\n",
       "      <th>Wind_production</th>\n",
       "      <th>Electric_demand</th>\n",
       "    </tr>\n",
       "  </thead>\n",
       "  <tbody>\n",
       "    <tr>\n",
       "      <th>0</th>\n",
       "      <td>0</td>\n",
       "      <td>2019-01-01-T00:00</td>\n",
       "      <td>1</td>\n",
       "      <td>1</td>\n",
       "      <td>0.0</td>\n",
       "      <td>0.0</td>\n",
       "      <td>0.0</td>\n",
       "      <td>2.88</td>\n",
       "      <td>56.036</td>\n",
       "      <td>1.82</td>\n",
       "      <td>0</td>\n",
       "      <td>2810</td>\n",
       "      <td>22216</td>\n",
       "    </tr>\n",
       "    <tr>\n",
       "      <th>1</th>\n",
       "      <td>1</td>\n",
       "      <td>2019-01-01-T00:05</td>\n",
       "      <td>1</td>\n",
       "      <td>1</td>\n",
       "      <td>0.0</td>\n",
       "      <td>0.0</td>\n",
       "      <td>0.0</td>\n",
       "      <td>2.88</td>\n",
       "      <td>56.036</td>\n",
       "      <td>1.82</td>\n",
       "      <td>0</td>\n",
       "      <td>2862</td>\n",
       "      <td>22106</td>\n",
       "    </tr>\n",
       "    <tr>\n",
       "      <th>2</th>\n",
       "      <td>2</td>\n",
       "      <td>2019-01-01-T00:10</td>\n",
       "      <td>1</td>\n",
       "      <td>1</td>\n",
       "      <td>0.0</td>\n",
       "      <td>0.0</td>\n",
       "      <td>0.0</td>\n",
       "      <td>2.88</td>\n",
       "      <td>56.194</td>\n",
       "      <td>1.78</td>\n",
       "      <td>0</td>\n",
       "      <td>2916</td>\n",
       "      <td>22130</td>\n",
       "    </tr>\n",
       "    <tr>\n",
       "      <th>3</th>\n",
       "      <td>3</td>\n",
       "      <td>2019-01-01-T00:15</td>\n",
       "      <td>1</td>\n",
       "      <td>1</td>\n",
       "      <td>0.0</td>\n",
       "      <td>0.0</td>\n",
       "      <td>0.0</td>\n",
       "      <td>2.88</td>\n",
       "      <td>56.344</td>\n",
       "      <td>1.74</td>\n",
       "      <td>0</td>\n",
       "      <td>2920</td>\n",
       "      <td>22040</td>\n",
       "    </tr>\n",
       "    <tr>\n",
       "      <th>4</th>\n",
       "      <td>4</td>\n",
       "      <td>2019-01-01-T00:20</td>\n",
       "      <td>1</td>\n",
       "      <td>1</td>\n",
       "      <td>0.0</td>\n",
       "      <td>0.0</td>\n",
       "      <td>0.0</td>\n",
       "      <td>2.84</td>\n",
       "      <td>56.440</td>\n",
       "      <td>1.72</td>\n",
       "      <td>0</td>\n",
       "      <td>2902</td>\n",
       "      <td>21963</td>\n",
       "    </tr>\n",
       "  </tbody>\n",
       "</table>\n",
       "</div>"
      ],
      "text/plain": [
       "   Unnamed: 0               Time  Season  Day_of_the_week  DHI  DNI  GHI  \\\n",
       "0           0  2019-01-01-T00:00       1                1  0.0  0.0  0.0   \n",
       "1           1  2019-01-01-T00:05       1                1  0.0  0.0  0.0   \n",
       "2           2  2019-01-01-T00:10       1                1  0.0  0.0  0.0   \n",
       "3           3  2019-01-01-T00:15       1                1  0.0  0.0  0.0   \n",
       "4           4  2019-01-01-T00:20       1                1  0.0  0.0  0.0   \n",
       "\n",
       "   Wind_speed  Humidity  Temperature  PV_production  Wind_production  \\\n",
       "0        2.88    56.036         1.82              0             2810   \n",
       "1        2.88    56.036         1.82              0             2862   \n",
       "2        2.88    56.194         1.78              0             2916   \n",
       "3        2.88    56.344         1.74              0             2920   \n",
       "4        2.84    56.440         1.72              0             2902   \n",
       "\n",
       "   Electric_demand  \n",
       "0            22216  \n",
       "1            22106  \n",
       "2            22130  \n",
       "3            22040  \n",
       "4            21963  "
      ]
     },
     "execution_count": 6,
     "metadata": {},
     "output_type": "execute_result"
    }
   ],
   "source": [
    "import pandas as pd\n",
    "Dataset = pd.read_csv(\"C:\\\\Users\\\\atang\\\\OneDrive\\\\Documents\\\\Data Science MSc\\\\Individual Research Project\\\\Database.csv\")\n",
    "Dataset.head()"
   ]
  },
  {
   "cell_type": "code",
   "execution_count": 7,
   "id": "3f89796ad825a70a",
   "metadata": {
    "ExecuteTime": {
     "end_time": "2024-08-04T14:43:57.189178900Z",
     "start_time": "2024-08-04T14:43:57.167968700Z"
    },
    "collapsed": false
   },
   "outputs": [
    {
     "data": {
      "text/plain": [
       "(315648, 13)"
      ]
     },
     "execution_count": 7,
     "metadata": {},
     "output_type": "execute_result"
    }
   ],
   "source": [
    "Dataset.shape"
   ]
  },
  {
   "cell_type": "code",
   "execution_count": 8,
   "id": "6aaa9b3fc645bf",
   "metadata": {
    "ExecuteTime": {
     "end_time": "2024-08-04T14:43:57.848901600Z",
     "start_time": "2024-08-04T14:43:57.181104300Z"
    },
    "collapsed": false
   },
   "outputs": [
    {
     "data": {
      "text/html": [
       "<div>\n",
       "<style scoped>\n",
       "    .dataframe tbody tr th:only-of-type {\n",
       "        vertical-align: middle;\n",
       "    }\n",
       "\n",
       "    .dataframe tbody tr th {\n",
       "        vertical-align: top;\n",
       "    }\n",
       "\n",
       "    .dataframe thead th {\n",
       "        text-align: right;\n",
       "    }\n",
       "</style>\n",
       "<table border=\"1\" class=\"dataframe\">\n",
       "  <thead>\n",
       "    <tr style=\"text-align: right;\">\n",
       "      <th></th>\n",
       "      <th>Unnamed: 0</th>\n",
       "      <th>Season</th>\n",
       "      <th>Day_of_the_week</th>\n",
       "      <th>DHI</th>\n",
       "      <th>DNI</th>\n",
       "      <th>GHI</th>\n",
       "      <th>Wind_speed</th>\n",
       "      <th>Humidity</th>\n",
       "      <th>Temperature</th>\n",
       "      <th>PV_production</th>\n",
       "      <th>Wind_production</th>\n",
       "      <th>Electric_demand</th>\n",
       "    </tr>\n",
       "    <tr>\n",
       "      <th>Time</th>\n",
       "      <th></th>\n",
       "      <th></th>\n",
       "      <th></th>\n",
       "      <th></th>\n",
       "      <th></th>\n",
       "      <th></th>\n",
       "      <th></th>\n",
       "      <th></th>\n",
       "      <th></th>\n",
       "      <th></th>\n",
       "      <th></th>\n",
       "      <th></th>\n",
       "    </tr>\n",
       "  </thead>\n",
       "  <tbody>\n",
       "    <tr>\n",
       "      <th>2019-01-01 00:00:00</th>\n",
       "      <td>0</td>\n",
       "      <td>1</td>\n",
       "      <td>1</td>\n",
       "      <td>0.0</td>\n",
       "      <td>0.0</td>\n",
       "      <td>0.0</td>\n",
       "      <td>2.88</td>\n",
       "      <td>56.036</td>\n",
       "      <td>1.82</td>\n",
       "      <td>0</td>\n",
       "      <td>2810</td>\n",
       "      <td>22216</td>\n",
       "    </tr>\n",
       "    <tr>\n",
       "      <th>2019-01-01 00:05:00</th>\n",
       "      <td>1</td>\n",
       "      <td>1</td>\n",
       "      <td>1</td>\n",
       "      <td>0.0</td>\n",
       "      <td>0.0</td>\n",
       "      <td>0.0</td>\n",
       "      <td>2.88</td>\n",
       "      <td>56.036</td>\n",
       "      <td>1.82</td>\n",
       "      <td>0</td>\n",
       "      <td>2862</td>\n",
       "      <td>22106</td>\n",
       "    </tr>\n",
       "    <tr>\n",
       "      <th>2019-01-01 00:10:00</th>\n",
       "      <td>2</td>\n",
       "      <td>1</td>\n",
       "      <td>1</td>\n",
       "      <td>0.0</td>\n",
       "      <td>0.0</td>\n",
       "      <td>0.0</td>\n",
       "      <td>2.88</td>\n",
       "      <td>56.194</td>\n",
       "      <td>1.78</td>\n",
       "      <td>0</td>\n",
       "      <td>2916</td>\n",
       "      <td>22130</td>\n",
       "    </tr>\n",
       "    <tr>\n",
       "      <th>2019-01-01 00:15:00</th>\n",
       "      <td>3</td>\n",
       "      <td>1</td>\n",
       "      <td>1</td>\n",
       "      <td>0.0</td>\n",
       "      <td>0.0</td>\n",
       "      <td>0.0</td>\n",
       "      <td>2.88</td>\n",
       "      <td>56.344</td>\n",
       "      <td>1.74</td>\n",
       "      <td>0</td>\n",
       "      <td>2920</td>\n",
       "      <td>22040</td>\n",
       "    </tr>\n",
       "    <tr>\n",
       "      <th>2019-01-01 00:20:00</th>\n",
       "      <td>4</td>\n",
       "      <td>1</td>\n",
       "      <td>1</td>\n",
       "      <td>0.0</td>\n",
       "      <td>0.0</td>\n",
       "      <td>0.0</td>\n",
       "      <td>2.84</td>\n",
       "      <td>56.440</td>\n",
       "      <td>1.72</td>\n",
       "      <td>0</td>\n",
       "      <td>2902</td>\n",
       "      <td>21963</td>\n",
       "    </tr>\n",
       "  </tbody>\n",
       "</table>\n",
       "</div>"
      ],
      "text/plain": [
       "                     Unnamed: 0  Season  Day_of_the_week  DHI  DNI  GHI  \\\n",
       "Time                                                                      \n",
       "2019-01-01 00:00:00           0       1                1  0.0  0.0  0.0   \n",
       "2019-01-01 00:05:00           1       1                1  0.0  0.0  0.0   \n",
       "2019-01-01 00:10:00           2       1                1  0.0  0.0  0.0   \n",
       "2019-01-01 00:15:00           3       1                1  0.0  0.0  0.0   \n",
       "2019-01-01 00:20:00           4       1                1  0.0  0.0  0.0   \n",
       "\n",
       "                     Wind_speed  Humidity  Temperature  PV_production  \\\n",
       "Time                                                                    \n",
       "2019-01-01 00:00:00        2.88    56.036         1.82              0   \n",
       "2019-01-01 00:05:00        2.88    56.036         1.82              0   \n",
       "2019-01-01 00:10:00        2.88    56.194         1.78              0   \n",
       "2019-01-01 00:15:00        2.88    56.344         1.74              0   \n",
       "2019-01-01 00:20:00        2.84    56.440         1.72              0   \n",
       "\n",
       "                     Wind_production  Electric_demand  \n",
       "Time                                                   \n",
       "2019-01-01 00:00:00             2810            22216  \n",
       "2019-01-01 00:05:00             2862            22106  \n",
       "2019-01-01 00:10:00             2916            22130  \n",
       "2019-01-01 00:15:00             2920            22040  \n",
       "2019-01-01 00:20:00             2902            21963  "
      ]
     },
     "execution_count": 8,
     "metadata": {},
     "output_type": "execute_result"
    }
   ],
   "source": [
    "#Convert the time column to Datetime for time series analysis\n",
    "Dataset['Time'] = pd.to_datetime(Dataset['Time'])\n",
    "Dataset.set_index('Time', inplace=True)\n",
    "Dataset.head()"
   ]
  },
  {
   "cell_type": "code",
   "execution_count": 9,
   "id": "ce3670464bd0ccb",
   "metadata": {
    "ExecuteTime": {
     "end_time": "2024-08-04T14:43:57.884082500Z",
     "start_time": "2024-08-04T14:43:57.848901600Z"
    },
    "collapsed": false
   },
   "outputs": [
    {
     "name": "stdout",
     "output_type": "stream",
     "text": [
      "Missing dates:\n",
      "DatetimeIndex([], dtype='datetime64[ns]', freq='5min')\n"
     ]
    }
   ],
   "source": [
    "# Generate a complete date range\n",
    "full_range = pd.date_range(start=Dataset.index.min(), end=Dataset.index.max(), freq='5min')\n",
    "\n",
    "# Identify missing dates\n",
    "missing_dates = full_range.difference(Dataset.index)\n",
    "\n",
    "# Print the missing dates\n",
    "print(\"Missing dates:\")\n",
    "print(missing_dates)"
   ]
  },
  {
   "cell_type": "code",
   "execution_count": 10,
   "id": "b2373c1069144e14",
   "metadata": {
    "ExecuteTime": {
     "end_time": "2024-08-04T14:43:57.984921500Z",
     "start_time": "2024-08-04T14:43:57.867138500Z"
    },
    "collapsed": false
   },
   "outputs": [
    {
     "data": {
      "text/plain": [
       "(105408, 12)"
      ]
     },
     "execution_count": 10,
     "metadata": {},
     "output_type": "execute_result"
    }
   ],
   "source": [
    "# Filter data to keep only the year 2020\n",
    "Dataset_2020 = Dataset[(Dataset.index.year == 2020)]\n",
    "Dataset_2020.head()\n",
    "Dataset_2020.shape"
   ]
  },
  {
   "cell_type": "code",
   "execution_count": 11,
   "id": "29caf17db96710d8",
   "metadata": {
    "ExecuteTime": {
     "end_time": "2024-08-04T14:43:58.110345200Z",
     "start_time": "2024-08-04T14:43:57.895219200Z"
    },
    "collapsed": false
   },
   "outputs": [
    {
     "name": "stdout",
     "output_type": "stream",
     "text": [
      "Index(['Unnamed: 0', 'Season', 'Day_of_the_week', 'DHI', 'DNI', 'GHI',\n",
      "       'Wind_speed', 'Humidity', 'Temperature', 'PV_production'],\n",
      "      dtype='object')\n"
     ]
    }
   ],
   "source": [
    "Dataset_2020 = Dataset_2020.drop(['Wind_production', 'Electric_demand'], axis = 1)\n",
    "print(Dataset_2020.columns)"
   ]
  },
  {
   "cell_type": "code",
   "execution_count": 12,
   "id": "6db465437e031384",
   "metadata": {
    "ExecuteTime": {
     "end_time": "2024-08-04T14:43:58.140693300Z",
     "start_time": "2024-08-04T14:43:57.913843400Z"
    },
    "collapsed": false
   },
   "outputs": [],
   "source": [
    "Dataset_2020['Wind_speed'] = pd.to_numeric(Dataset_2020['Wind_speed'], downcast='float')\n",
    "Dataset_2020['Season'] = pd.to_numeric(Dataset_2020['Season'], downcast='float')\n",
    "Dataset_2020['Day_of_the_week'] = pd.to_numeric(Dataset_2020['Day_of_the_week'], downcast='float')\n",
    "Dataset_2020['DHI'] = pd.to_numeric(Dataset_2020['DHI'], downcast='float')\n",
    "Dataset_2020['DNI'] = pd.to_numeric(Dataset_2020['DNI'], downcast='float')\n",
    "Dataset_2020['GHI'] = pd.to_numeric(Dataset_2020['GHI'], downcast='float')\n",
    "Dataset_2020['Humidity'] = pd.to_numeric(Dataset_2020['Humidity'], downcast='float')\n",
    "Dataset_2020['Temperature'] = pd.to_numeric(Dataset_2020['Temperature'], downcast='float')\n",
    "Dataset_2020['PV_production'] = pd.to_numeric(Dataset_2020['PV_production'], downcast='float')"
   ]
  },
  {
   "cell_type": "code",
   "execution_count": 13,
   "id": "36ebfb90f7a34bdf",
   "metadata": {
    "ExecuteTime": {
     "end_time": "2024-08-04T14:43:58.159792200Z",
     "start_time": "2024-08-04T14:43:57.940539300Z"
    },
    "collapsed": false
   },
   "outputs": [],
   "source": [
    "# Replace negative PV_production values with zero\n",
    "Dataset_2020.loc[Dataset_2020['PV_production'] < 0, 'PV_production'] = 0"
   ]
  },
  {
   "cell_type": "code",
   "execution_count": 14,
   "id": "1a621c9f750723e8",
   "metadata": {
    "ExecuteTime": {
     "end_time": "2024-08-04T14:43:58.159792200Z",
     "start_time": "2024-08-04T14:43:57.959679900Z"
    },
    "collapsed": false
   },
   "outputs": [
    {
     "data": {
      "text/plain": [
       "(105408, 10)"
      ]
     },
     "execution_count": 14,
     "metadata": {},
     "output_type": "execute_result"
    }
   ],
   "source": [
    "# Handle any remaining non-numeric or NA values in PV_production\n",
    "Dataset_2020 = Dataset_2020.dropna(subset=['PV_production'])\n",
    "Dataset_2020.shape"
   ]
  },
  {
   "cell_type": "code",
   "execution_count": 21,
   "id": "fe6f3426281988d2",
   "metadata": {
    "ExecuteTime": {
     "end_time": "2024-08-04T16:13:53.232270Z",
     "start_time": "2024-08-04T16:05:35.536448100Z"
    },
    "collapsed": false
   },
   "outputs": [
    {
     "name": "stderr",
     "output_type": "stream",
     "text": [
      "C:\\Users\\atang\\OneDrive\\Documents\\Data Science MSc\\Research Project\\Group project\\pythonProject3\\lib\\site-packages\\keras\\src\\layers\\rnn\\rnn.py:204: UserWarning: Do not pass an `input_shape`/`input_dim` argument to a layer. When using Sequential models, prefer using an `Input(shape)` object as the first layer in the model instead.\n",
      "  super().__init__(**kwargs)\n"
     ]
    },
    {
     "name": "stdout",
     "output_type": "stream",
     "text": [
      "\u001b[1m824/824\u001b[0m \u001b[32m━━━━━━━━━━━━━━━━━━━━\u001b[0m\u001b[37m\u001b[0m \u001b[1m2s\u001b[0m 2ms/step\n"
     ]
    },
    {
     "name": "stderr",
     "output_type": "stream",
     "text": [
      "C:\\Users\\atang\\OneDrive\\Documents\\Data Science MSc\\Research Project\\Group project\\pythonProject3\\lib\\site-packages\\keras\\src\\layers\\rnn\\rnn.py:204: UserWarning: Do not pass an `input_shape`/`input_dim` argument to a layer. When using Sequential models, prefer using an `Input(shape)` object as the first layer in the model instead.\n",
      "  super().__init__(**kwargs)\n"
     ]
    },
    {
     "name": "stdout",
     "output_type": "stream",
     "text": [
      "\u001b[1m824/824\u001b[0m \u001b[32m━━━━━━━━━━━━━━━━━━━━\u001b[0m\u001b[37m\u001b[0m \u001b[1m1s\u001b[0m 1ms/step\n"
     ]
    },
    {
     "name": "stderr",
     "output_type": "stream",
     "text": [
      "C:\\Users\\atang\\OneDrive\\Documents\\Data Science MSc\\Research Project\\Group project\\pythonProject3\\lib\\site-packages\\keras\\src\\layers\\rnn\\rnn.py:204: UserWarning: Do not pass an `input_shape`/`input_dim` argument to a layer. When using Sequential models, prefer using an `Input(shape)` object as the first layer in the model instead.\n",
      "  super().__init__(**kwargs)\n"
     ]
    },
    {
     "name": "stdout",
     "output_type": "stream",
     "text": [
      "\u001b[1m824/824\u001b[0m \u001b[32m━━━━━━━━━━━━━━━━━━━━\u001b[0m\u001b[37m\u001b[0m \u001b[1m1s\u001b[0m 848us/step\n",
      "   R2 Score          MAPE          MSE\n",
      "0  0.064961  5.116832e+18  19138588.00\n",
      "1  0.878434  1.186358e+18   2690374.75\n",
      "2  0.743473  1.769607e+18   3482319.00\n"
     ]
    }
   ],
   "source": [
    "import numpy as np\n",
    "import pandas as pd\n",
    "from sklearn.preprocessing import MinMaxScaler\n",
    "from sklearn.metrics import r2_score, mean_absolute_percentage_error, mean_squared_error\n",
    "from sklearn.model_selection import TimeSeriesSplit\n",
    "from keras.models import Sequential\n",
    "from keras.layers import LSTM, Dense, Dropout\n",
    "from keras.callbacks import EarlyStopping\n",
    "\n",
    "# Specify the target variable and features\n",
    "y = Dataset_2020['PV_production'].values\n",
    "X = Dataset_2020.drop(columns=['PV_production']).values\n",
    "\n",
    "# Normalise the data\n",
    "scaler_X = MinMaxScaler()\n",
    "X_scaled = scaler_X.fit_transform(X)\n",
    "\n",
    "scaler_y = MinMaxScaler()\n",
    "y_scaled = scaler_y.fit_transform(y.reshape(-1, 1))\n",
    "\n",
    "# Prepare function to create LSTM model\n",
    "def create_lstm_model(input_shape):\n",
    "    model = Sequential()\n",
    "    model.add(LSTM(50, activation='relu', input_shape=input_shape, return_sequences=True))\n",
    "    model.add(Dropout(0.2))\n",
    "    model.add(LSTM(50, activation='relu'))\n",
    "    model.add(Dropout(0.2))\n",
    "    model.add(Dense(1))\n",
    "    model.compile(optimizer='adam', loss='mse')\n",
    "    return model\n",
    "\n",
    "# Initialise time series split for cross-validation\n",
    "tscv = TimeSeriesSplit(n_splits=3)\n",
    "\n",
    "r2_scores = []\n",
    "mse_scores = []\n",
    "\n",
    "# Cross-validation\n",
    "for train_index, test_index in tscv.split(X_scaled):\n",
    "    X_train, X_test = X_scaled[train_index], X_scaled[test_index]\n",
    "    y_train, y_test = y_scaled[train_index], y_scaled[test_index]\n",
    "    \n",
    "    # Reshape input to be 3D [samples, timesteps, features]\n",
    "    X_train = X_train.reshape((X_train.shape[0], 1, X_train.shape[1]))\n",
    "    X_test = X_test.reshape((X_test.shape[0], 1, X_test.shape[1]))\n",
    "    \n",
    "    # Create and fit the LSTM model\n",
    "    model = create_lstm_model((X_train.shape[1], X_train.shape[2]))\n",
    "    model.fit(X_train, y_train, epochs=70, verbose=0)\n",
    "    \n",
    "    # Make predictions\n",
    "    predictions = model.predict(X_test)\n",
    "    predictions = scaler_y.inverse_transform(predictions)\n",
    "    y_test = scaler_y.inverse_transform(y_test)\n",
    "    \n",
    "    # Calculate metrics\n",
    "    r2 = r2_score(y_test, predictions)\n",
    "    mse = mean_squared_error(y_test, predictions)\n",
    "    \n",
    "    r2_scores.append(r2)\n",
    "    mse_scores.append(mse)\n",
    "\n",
    "# Display the results\n",
    "results = pd.DataFrame({\n",
    "    'R2 Score': r2_scores,\n",
    "    'MSE': mse_scores\n",
    "})\n",
    "\n",
    "print(results)\n"
   ]
  },
  {
   "cell_type": "code",
   "execution_count": null,
   "id": "cab4325ea260d7fd",
   "metadata": {
    "collapsed": false
   },
   "outputs": [],
   "source": []
  }
 ],
 "metadata": {
  "kernelspec": {
   "display_name": "Python 3",
   "language": "python",
   "name": "python3"
  },
  "language_info": {
   "codemirror_mode": {
    "name": "ipython",
    "version": 2
   },
   "file_extension": ".py",
   "mimetype": "text/x-python",
   "name": "python",
   "nbconvert_exporter": "python",
   "pygments_lexer": "ipython2",
   "version": "2.7.6"
  }
 },
 "nbformat": 4,
 "nbformat_minor": 5
}
